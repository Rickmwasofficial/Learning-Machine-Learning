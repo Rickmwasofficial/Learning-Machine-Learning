{
 "cells": [
  {
   "cell_type": "markdown",
   "id": "7e35f022-61e8-4c5f-a93c-032cabc55b63",
   "metadata": {},
   "source": [
    "## Import The Required Libraries"
   ]
  },
  {
   "cell_type": "code",
   "execution_count": 2,
   "id": "d45a09a2-d779-4b94-843b-e833ea0abf65",
   "metadata": {},
   "outputs": [],
   "source": [
    "import pandas as pd\n",
    "import matplotlib.pyplot as plt\n",
    "import numpy as np"
   ]
  },
  {
   "cell_type": "markdown",
   "id": "6d376c35-a2f5-47c1-8d44-e8731dbdea02",
   "metadata": {},
   "source": [
    "### Get and clean the data"
   ]
  },
  {
   "cell_type": "code",
   "execution_count": 2,
   "id": "2821d1fe-c476-4b05-8074-4f26e952d337",
   "metadata": {},
   "outputs": [
    {
     "data": {
      "text/html": [
       "<div>\n",
       "<style scoped>\n",
       "    .dataframe tbody tr th:only-of-type {\n",
       "        vertical-align: middle;\n",
       "    }\n",
       "\n",
       "    .dataframe tbody tr th {\n",
       "        vertical-align: top;\n",
       "    }\n",
       "\n",
       "    .dataframe thead th {\n",
       "        text-align: right;\n",
       "    }\n",
       "</style>\n",
       "<table border=\"1\" class=\"dataframe\">\n",
       "  <thead>\n",
       "    <tr style=\"text-align: right;\">\n",
       "      <th></th>\n",
       "      <th>Survived</th>\n",
       "      <th>Name</th>\n",
       "      <th>Sex</th>\n",
       "      <th>Age</th>\n",
       "      <th>Ticket</th>\n",
       "      <th>Fare</th>\n",
       "      <th>Cabin</th>\n",
       "      <th>Embarked</th>\n",
       "    </tr>\n",
       "  </thead>\n",
       "  <tbody>\n",
       "    <tr>\n",
       "      <th>0</th>\n",
       "      <td>0</td>\n",
       "      <td>Braund, Mr. Owen Harris</td>\n",
       "      <td>male</td>\n",
       "      <td>22.000000</td>\n",
       "      <td>A/5 21171</td>\n",
       "      <td>7.2500</td>\n",
       "      <td>0</td>\n",
       "      <td>S</td>\n",
       "    </tr>\n",
       "    <tr>\n",
       "      <th>4</th>\n",
       "      <td>0</td>\n",
       "      <td>Allen, Mr. William Henry</td>\n",
       "      <td>male</td>\n",
       "      <td>35.000000</td>\n",
       "      <td>373450</td>\n",
       "      <td>8.0500</td>\n",
       "      <td>0</td>\n",
       "      <td>S</td>\n",
       "    </tr>\n",
       "    <tr>\n",
       "      <th>5</th>\n",
       "      <td>0</td>\n",
       "      <td>Moran, Mr. James</td>\n",
       "      <td>male</td>\n",
       "      <td>30.726645</td>\n",
       "      <td>330877</td>\n",
       "      <td>8.4583</td>\n",
       "      <td>0</td>\n",
       "      <td>Q</td>\n",
       "    </tr>\n",
       "    <tr>\n",
       "      <th>6</th>\n",
       "      <td>0</td>\n",
       "      <td>McCarthy, Mr. Timothy J</td>\n",
       "      <td>male</td>\n",
       "      <td>54.000000</td>\n",
       "      <td>17463</td>\n",
       "      <td>51.8625</td>\n",
       "      <td>E46</td>\n",
       "      <td>S</td>\n",
       "    </tr>\n",
       "    <tr>\n",
       "      <th>7</th>\n",
       "      <td>0</td>\n",
       "      <td>Palsson, Master. Gosta Leonard</td>\n",
       "      <td>male</td>\n",
       "      <td>2.000000</td>\n",
       "      <td>349909</td>\n",
       "      <td>21.0750</td>\n",
       "      <td>0</td>\n",
       "      <td>S</td>\n",
       "    </tr>\n",
       "    <tr>\n",
       "      <th>...</th>\n",
       "      <td>...</td>\n",
       "      <td>...</td>\n",
       "      <td>...</td>\n",
       "      <td>...</td>\n",
       "      <td>...</td>\n",
       "      <td>...</td>\n",
       "      <td>...</td>\n",
       "      <td>...</td>\n",
       "    </tr>\n",
       "    <tr>\n",
       "      <th>883</th>\n",
       "      <td>0</td>\n",
       "      <td>Banfield, Mr. Frederick James</td>\n",
       "      <td>male</td>\n",
       "      <td>28.000000</td>\n",
       "      <td>C.A./SOTON 34068</td>\n",
       "      <td>10.5000</td>\n",
       "      <td>0</td>\n",
       "      <td>S</td>\n",
       "    </tr>\n",
       "    <tr>\n",
       "      <th>884</th>\n",
       "      <td>0</td>\n",
       "      <td>Sutehall, Mr. Henry Jr</td>\n",
       "      <td>male</td>\n",
       "      <td>25.000000</td>\n",
       "      <td>SOTON/OQ 392076</td>\n",
       "      <td>7.0500</td>\n",
       "      <td>0</td>\n",
       "      <td>S</td>\n",
       "    </tr>\n",
       "    <tr>\n",
       "      <th>886</th>\n",
       "      <td>0</td>\n",
       "      <td>Montvila, Rev. Juozas</td>\n",
       "      <td>male</td>\n",
       "      <td>27.000000</td>\n",
       "      <td>211536</td>\n",
       "      <td>13.0000</td>\n",
       "      <td>0</td>\n",
       "      <td>S</td>\n",
       "    </tr>\n",
       "    <tr>\n",
       "      <th>889</th>\n",
       "      <td>1</td>\n",
       "      <td>Behr, Mr. Karl Howell</td>\n",
       "      <td>male</td>\n",
       "      <td>26.000000</td>\n",
       "      <td>111369</td>\n",
       "      <td>30.0000</td>\n",
       "      <td>C148</td>\n",
       "      <td>C</td>\n",
       "    </tr>\n",
       "    <tr>\n",
       "      <th>890</th>\n",
       "      <td>0</td>\n",
       "      <td>Dooley, Mr. Patrick</td>\n",
       "      <td>male</td>\n",
       "      <td>32.000000</td>\n",
       "      <td>370376</td>\n",
       "      <td>7.7500</td>\n",
       "      <td>0</td>\n",
       "      <td>Q</td>\n",
       "    </tr>\n",
       "  </tbody>\n",
       "</table>\n",
       "<p>577 rows × 8 columns</p>\n",
       "</div>"
      ],
      "text/plain": [
       "     Survived                            Name   Sex        Age  \\\n",
       "0           0         Braund, Mr. Owen Harris  male  22.000000   \n",
       "4           0        Allen, Mr. William Henry  male  35.000000   \n",
       "5           0                Moran, Mr. James  male  30.726645   \n",
       "6           0         McCarthy, Mr. Timothy J  male  54.000000   \n",
       "7           0  Palsson, Master. Gosta Leonard  male   2.000000   \n",
       "..        ...                             ...   ...        ...   \n",
       "883         0   Banfield, Mr. Frederick James  male  28.000000   \n",
       "884         0          Sutehall, Mr. Henry Jr  male  25.000000   \n",
       "886         0           Montvila, Rev. Juozas  male  27.000000   \n",
       "889         1           Behr, Mr. Karl Howell  male  26.000000   \n",
       "890         0             Dooley, Mr. Patrick  male  32.000000   \n",
       "\n",
       "               Ticket     Fare Cabin Embarked  \n",
       "0           A/5 21171   7.2500     0        S  \n",
       "4              373450   8.0500     0        S  \n",
       "5              330877   8.4583     0        Q  \n",
       "6               17463  51.8625   E46        S  \n",
       "7              349909  21.0750     0        S  \n",
       "..                ...      ...   ...      ...  \n",
       "883  C.A./SOTON 34068  10.5000     0        S  \n",
       "884   SOTON/OQ 392076   7.0500     0        S  \n",
       "886            211536  13.0000     0        S  \n",
       "889            111369  30.0000  C148        C  \n",
       "890            370376   7.7500     0        Q  \n",
       "\n",
       "[577 rows x 8 columns]"
      ]
     },
     "execution_count": 2,
     "metadata": {},
     "output_type": "execute_result"
    }
   ],
   "source": [
    "data = pd.read_csv(\"Titanic-Dataset.csv\")\n",
    "data.drop(\"PassengerId\", axis=1)\n",
    "female = data[data[\"Sex\"] == \"female\"]\n",
    "female_use = female.drop([\"PassengerId\", \"Pclass\", \"SibSp\", \"Parch\"], axis=1)\n",
    "male = data[data[\"Sex\"] == \"male\"]\n",
    "male_use = male.drop([\"PassengerId\", \"Pclass\", \"SibSp\", \"Parch\"], axis=1)\n",
    "male_use[\"Age\"] = male_use[\"Age\"].fillna(male_use[\"Age\"].mean())\n",
    "male_use.fillna(0)"
   ]
  },
  {
   "cell_type": "markdown",
   "id": "63e5b9dc-f2a8-4908-be64-363eba7cb1d8",
   "metadata": {},
   "source": [
    "### Try and visualize the data"
   ]
  },
  {
   "cell_type": "code",
   "execution_count": 3,
   "id": "9c7afc05-e5b6-4c97-a6c4-f936f4cc055e",
   "metadata": {},
   "outputs": [],
   "source": [
    "# plt.title(\"Age of men in the ship\")\n",
    "# plt.xlabel(\"Sex\")\n",
    "# plt.ylabel(\"Survived\")\n",
    "# plt.bar(male_use.index, male_use[\"Survived\"])\n",
    "# plt.show()\n",
    "# male_use.plot.hist(stacked=True, bins=20)"
   ]
  },
  {
   "cell_type": "code",
   "execution_count": 4,
   "id": "92826022-ca23-4bef-810d-e1f8d21cc5a0",
   "metadata": {},
   "outputs": [],
   "source": [
    "# for i in range(100):\n",
    "    # print(np.random.randint(2, size=(10, 10)))"
   ]
  },
  {
   "cell_type": "code",
   "execution_count": null,
   "id": "c29b60d5-ec29-4dd5-b360-685aa470f2bb",
   "metadata": {},
   "outputs": [],
   "source": [
    "arr = np.random.randint(2, size=(20, 20))\n",
    "print(arr)\n",
    "df2 = pd.DataFrame(arr)\n",
    "df2"
   ]
  },
  {
   "cell_type": "code",
   "execution_count": 5,
   "id": "11836fdb-7e9b-4c31-99f8-5b3c7703517d",
   "metadata": {},
   "outputs": [
    {
     "data": {
      "text/plain": [
       "array([0.00237121, 0.46691068, 0.40533281, 0.9821385 , 0.7348904 ,\n",
       "       0.83892953, 0.96934312, 0.24896277, 0.8293174 , 0.31170441,\n",
       "       0.91156945, 0.14623781, 0.90602   , 0.21851093, 0.94773245,\n",
       "       0.77221152, 0.69192778, 0.77915707, 0.22769262, 0.76077339,\n",
       "       0.92594277, 0.81860694, 0.23069386, 0.07372756, 0.81516592,\n",
       "       0.33869546, 0.08505593, 0.68343327, 0.04654324, 0.84602044,\n",
       "       0.66042958, 0.07971656, 0.40495894, 0.29328819, 0.81530965,\n",
       "       0.39554803, 0.01094902, 0.35856021, 0.70092804, 0.35701554,\n",
       "       0.44227368, 0.20200136, 0.75204319, 0.42340383, 0.61343807,\n",
       "       0.8636831 , 0.47490116, 0.37642959, 0.88182244, 0.31989119,\n",
       "       0.41781137, 0.25061829, 0.26036787, 0.58592246, 0.59440802,\n",
       "       0.09242493, 0.8444507 , 0.18493142, 0.69970054, 0.78107564,\n",
       "       0.15184991, 0.49615713, 0.60028954, 0.84317033, 0.5929148 ,\n",
       "       0.51229233, 0.84413004, 0.78932216, 0.40505678, 0.20545289,\n",
       "       0.98807357, 0.6444573 , 0.13578645, 0.35854823, 0.04263184,\n",
       "       0.67303097, 0.85185765, 0.20572011, 0.10879357, 0.41465906,\n",
       "       0.75129517, 0.61193294, 0.38736806, 0.14928475, 0.81223758,\n",
       "       0.56824507, 0.78501813, 0.72095476, 0.39774052, 0.80146343,\n",
       "       0.27556003, 0.42126551, 0.14530132, 0.41097013, 0.3557938 ,\n",
       "       0.43721764, 0.19476151, 0.5655119 , 0.26822458, 0.74612486])"
      ]
     },
     "execution_count": 5,
     "metadata": {},
     "output_type": "execute_result"
    }
   ],
   "source": [
    "mass = np.random.random(100000)\n",
    "mass[:100]"
   ]
  },
  {
   "cell_type": "code",
   "execution_count": 6,
   "id": "0a688a9d-f117-412c-9899-4c71dee95403",
   "metadata": {},
   "outputs": [
    {
     "name": "stdout",
     "output_type": "stream",
     "text": [
      "37.3 ms ± 890 µs per loop (mean ± std. dev. of 7 runs, 10 loops each)\n",
      "373 µs ± 20.1 µs per loop (mean ± std. dev. of 7 runs, 1,000 loops each)\n"
     ]
    }
   ],
   "source": [
    "%timeit sum(mass)\n",
    "%timeit np.sum(mass)"
   ]
  },
  {
   "cell_type": "code",
   "execution_count": 7,
   "id": "c16e58ca-81d9-4627-a5f7-50cc3e57bc11",
   "metadata": {},
   "outputs": [
    {
     "data": {
      "text/plain": [
       "2.4"
      ]
     },
     "execution_count": 7,
     "metadata": {},
     "output_type": "execute_result"
    }
   ],
   "source": [
    "12/5"
   ]
  },
  {
   "cell_type": "code",
   "execution_count": null,
   "id": "d3a1ffc0-cf5c-4320-b9d9-844147e78a14",
   "metadata": {},
   "outputs": [],
   "source": []
  }
 ],
 "metadata": {
  "kernelspec": {
   "display_name": "Python 3 (ipykernel)",
   "language": "python",
   "name": "python3"
  },
  "language_info": {
   "codemirror_mode": {
    "name": "ipython",
    "version": 3
   },
   "file_extension": ".py",
   "mimetype": "text/x-python",
   "name": "python",
   "nbconvert_exporter": "python",
   "pygments_lexer": "ipython3",
   "version": "3.12.2"
  }
 },
 "nbformat": 4,
 "nbformat_minor": 5
}
